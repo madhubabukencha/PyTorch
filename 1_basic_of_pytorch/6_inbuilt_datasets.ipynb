{
 "cells": [
  {
   "cell_type": "markdown",
   "id": "a1737fbf-e961-43fd-9540-f630b88398e5",
   "metadata": {},
   "source": [
    "<p style=\"color:#153462; \n",
    "          font-weight: bold; \n",
    "          font-size: 30px; \n",
    "          font-family: Gill Sans, sans-serif; \n",
    "          text-align: center;\">\n",
    "          Inbuild Datasets</p>"
   ]
  },
  {
   "cell_type": "markdown",
   "id": "6307a744-53b2-44ae-a30a-3f10669f2a0c",
   "metadata": {},
   "source": [
    "<p style=\"text-align: justify; text-justify: inter-word;\">\n",
    "   <font size=3>\n",
    "       In this notebook we are going to use in-built datasets and top of that dataset we are going\n",
    "       to perform some transformations.\n",
    "   </font>\n",
    "</p>\n"
   ]
  },
  {
   "cell_type": "markdown",
   "id": "56f7e940-2a0b-4e15-ba2c-a07b1307f25e",
   "metadata": {},
   "source": [
    "### <span style=\"color:#3C4048; font-weight: bold; font-size: 18px; font-family: Gill Sans, sans-serif;\">Importing Packages</span>"
   ]
  },
  {
   "cell_type": "code",
   "execution_count": 1,
   "id": "baf4da0c-650e-4cff-9fe4-ef49264e50d7",
   "metadata": {
    "tags": []
   },
   "outputs": [],
   "source": [
    "import torch\n",
    "import matplotlib.pylab as plt\n",
    "import numpy as np\n",
    "from torchvision import transforms\n",
    "import torchvision.datasets as dsets"
   ]
  },
  {
   "cell_type": "code",
   "execution_count": 2,
   "id": "bf5c5af9-2e62-41a3-9805-ca38ca2d230a",
   "metadata": {
    "tags": []
   },
   "outputs": [
    {
     "data": {
      "text/plain": [
       "<torch._C.Generator at 0x2d0f3744a50>"
      ]
     },
     "execution_count": 2,
     "metadata": {},
     "output_type": "execute_result"
    }
   ],
   "source": [
    "torch.manual_seed(0)"
   ]
  },
  {
   "cell_type": "markdown",
   "id": "f9c234bf-ea9c-4af2-831f-6fbd64dd39be",
   "metadata": {},
   "source": [
    "### <span style=\"color:#3C4048; font-weight: bold; font-size: 18px; font-family: Gill Sans, sans-serif;\">Help Functions</span>"
   ]
  },
  {
   "cell_type": "code",
   "execution_count": 3,
   "id": "f3140264-bb8d-4dc8-939f-7ea531d56f6c",
   "metadata": {
    "tags": []
   },
   "outputs": [],
   "source": [
    "# Function to show the diagram\n",
    "def show_dia(data_sample, shape=(28, 28)):\n",
    "    plt.figure(figsize=(3, 3))\n",
    "    plt.imshow(data_sample[0].numpy().reshape(shape), cmap=\"gray\")\n",
    "    plt.title(\"y= \" + str(data_sample[1]))"
   ]
  },
  {
   "cell_type": "markdown",
   "id": "902ec446-156f-4835-baa9-37ce2d97a7d0",
   "metadata": {},
   "source": [
    "### <span style=\"color:#3C4048; font-weight: bold; font-size: 18px; font-family: Gill Sans, sans-serif;\">Loading the Dataset</span>"
   ]
  },
  {
   "cell_type": "code",
   "execution_count": 4,
   "id": "6e43c470-6170-47bc-bc00-cac83d94f7c0",
   "metadata": {
    "tags": []
   },
   "outputs": [],
   "source": [
    "# We are download the MNIST dataset\n",
    "dataset = dsets.MNIST(\n",
    "    root = \"./data\",\n",
    "    download = True,\n",
    "    transform = transforms.ToTensor() # Convert the image to a torch Tensor\n",
    ")"
   ]
  },
  {
   "cell_type": "code",
   "execution_count": 5,
   "id": "c09f8cf5-7c2a-4b00-bed8-9e2c40b5ba9f",
   "metadata": {
    "tags": []
   },
   "outputs": [
    {
     "name": "stdout",
     "output_type": "stream",
     "text": [
      "Type of the first element\t\t:<class 'tuple'>\n",
      "Length of the first element\t\t:2\n",
      "Shape of the first element in the tuple\t:torch.Size([1, 28, 28])\n",
      "Type of the first element in the tuple\t:<class 'torch.Tensor'>\n",
      "Second element in the tuple\t\t:5\n",
      "Type of the second element in the tuple\t:<class 'int'>\n"
     ]
    }
   ],
   "source": [
    "# Details of the dataset\n",
    "print(f\"Type of the first element\\t\\t:{type(dataset[0])}\")\n",
    "print(f\"Length of the first element\\t\\t:{len(dataset[0])}\")\n",
    "print(f\"Shape of the first element in the tuple\\t:{dataset[0][0].shape}\")\n",
    "print(f\"Type of the first element in the tuple\\t:{type(dataset[0][0])}\")\n",
    "print(f\"Second element in the tuple\\t\\t:{dataset[0][1]}\")\n",
    "print(f\"Type of the second element in the tuple\\t:{type(dataset[0][1])}\")"
   ]
  },
  {
   "cell_type": "code",
   "execution_count": 6,
   "id": "560a69d4-6c28-491f-ac36-4f410928c89a",
   "metadata": {
    "tags": []
   },
   "outputs": [
    {
     "data": {
      "text/plain": [
       "torch.Size([1, 28, 28])"
      ]
     },
     "execution_count": 6,
     "metadata": {},
     "output_type": "execute_result"
    }
   ],
   "source": [
    "dataset[0][0].shape"
   ]
  },
  {
   "cell_type": "markdown",
   "id": "80d4ffef-fdbf-4d77-bbb2-8427646ef155",
   "metadata": {},
   "source": [
    "### <span style=\"color:#3C4048; font-weight: bold; font-size: 18px; font-family: Gill Sans, sans-serif;\">Ploting the elements</span>"
   ]
  },
  {
   "cell_type": "code",
   "execution_count": 7,
   "id": "35f93794-bbd7-4850-b53f-a8379af4d6c7",
   "metadata": {
    "tags": []
   },
   "outputs": [
    {
     "data": {
      "image/png": "[encoded data removed]",
      "text/plain": [
       "<Figure size 300x300 with 1 Axes>"
      ]
     },
     "metadata": {},
     "output_type": "display_data"
    }
   ],
   "source": [
    "show_dia(dataset[0])"
   ]
  },
  {
   "cell_type": "code",
   "execution_count": 8,
   "id": "ff142164-72ab-45aa-914c-b382a6f9d7cf",
   "metadata": {
    "tags": []
   },
   "outputs": [
    {
     "data": {
      "image/png": "[encoded data removed]",
      "text/plain": [
       "<Figure size 300x300 with 1 Axes>"
      ]
     },
     "metadata": {},
     "output_type": "display_data"
    }
   ],
   "source": [
    "show_dia(dataset[12])"
   ]
  },
  {
   "cell_type": "markdown",
   "id": "d35adcba-a895-41b0-b5a9-f14c311c1dbe",
   "metadata": {},
   "source": [
    "### <span style=\"color:#3C4048; font-weight: bold; font-size: 18px; font-family: Gill Sans, sans-serif;\">Torchvision Transforms</span>"
   ]
  },
  {
   "cell_type": "markdown",
   "id": "117cbaa5-f927-4320-9c16-818faa4e49d4",
   "metadata": {},
   "source": [
    "<p style=\"text-align: justify; text-justify: inter-word;\">\n",
    "   <font size=3>\n",
    "       The images in the MNIST dataset can be cropped and converted to a tensor.\n",
    "   </font>\n",
    "</p>"
   ]
  },
  {
   "cell_type": "code",
   "execution_count": 9,
   "id": "8995e53e-a747-4796-8185-1c114d1955fd",
   "metadata": {
    "tags": []
   },
   "outputs": [],
   "source": [
    "croptensor_data_transform = transforms.Compose([transforms.CenterCrop(15), transforms.ToTensor()])"
   ]
  },
  {
   "cell_type": "code",
   "execution_count": 10,
   "id": "5f6f8e0d-d831-4b64-a5c4-dbe30685b288",
   "metadata": {
    "tags": []
   },
   "outputs": [],
   "source": [
    "dataset = dsets.MNIST(\n",
    "    root = \"./data\",\n",
    "    download = True,\n",
    "    transform = croptensor_data_transform\n",
    ")"
   ]
  },
  {
   "cell_type": "code",
   "execution_count": 11,
   "id": "5abf9b16-7ce1-4eee-8989-5d16932ed4f9",
   "metadata": {
    "tags": []
   },
   "outputs": [
    {
     "name": "stdout",
     "output_type": "stream",
     "text": [
      "Shape: torch.Size([1, 15, 15])\n"
     ]
    }
   ],
   "source": [
    "# checking size of tensor is very important to re-shape the data\n",
    "print(F\"Shape: {dataset[0][0].shape}\")"
   ]
  },
  {
   "cell_type": "code",
   "execution_count": 12,
   "id": "0c6770ac-4c12-4f6b-8745-ba960e03d007",
   "metadata": {
    "tags": []
   },
   "outputs": [
    {
     "data": {
      "image/png": "[encoded data removed]",
      "text/plain": [
       "<Figure size 300x300 with 1 Axes>"
      ]
     },
     "metadata": {},
     "output_type": "display_data"
    }
   ],
   "source": [
    "# Notice that the black space around the 7 becomes less apparent\n",
    "show_dia(dataset[0], shape=(15, 15))"
   ]
  },
  {
   "cell_type": "code",
   "execution_count": null,
   "id": "d412e7c0-1044-4037-aa78-9b9859151930",
   "metadata": {},
   "outputs": [],
   "source": []
  }
 ],
 "metadata": {
  "kernelspec": {
   "display_name": "Python 3 (ipykernel)",
   "language": "python",
   "name": "python3"
  },
  "language_info": {
   "codemirror_mode": {
    "name": "ipython",
    "version": 3
   },
   "file_extension": ".py",
   "mimetype": "text/x-python",
   "name": "python",
   "nbconvert_exporter": "python",
   "pygments_lexer": "ipython3",
   "version": "3.11.2"
  }
 },
 "nbformat": 4,
 "nbformat_minor": 5
}
