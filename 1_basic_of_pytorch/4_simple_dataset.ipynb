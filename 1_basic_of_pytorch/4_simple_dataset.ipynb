{
 "cells": [
  {
   "cell_type": "markdown",
   "id": "51c656a3",
   "metadata": {},
   "source": [
    "<p style=\"color:#153462; \n",
    "          font-weight: bold; \n",
    "          font-size: 30px; \n",
    "          font-family: Gill Sans, sans-serif; \n",
    "          text-align: center;\">\n",
    "          Simple Dataset in PyTorch</p>"
   ]
  },
  {
   "cell_type": "markdown",
   "id": "0da5c77f-0985-42f4-948b-039bda03d738",
   "metadata": {},
   "source": [
    "<p style=\"text-align: justify; text-justify: inter-word;\">\n",
    "   <font size=3>\n",
    "       <p>\n",
    "            In PyTorch, a dataset is a fundamental concept used for handling and organizing\n",
    "            data for machine learning and deep learning tasks. A dataset typically represents\n",
    "            a collection of data samples, where each sample is an input-output pair used for training,\n",
    "            validation, or testing. Creating datasets in PyTorch serves several important purposes:\n",
    "       </p>\n",
    "       <ul>\n",
    "            <li>\n",
    "                <strong>Data Organization:</strong> Datasets help you organize your data in a structured manner. \n",
    "                They provide a convenient way to store and manage data samples, making it easier to load and\n",
    "                process data during training.\n",
    "            </li>\n",
    "            <li>\n",
    "                <strong>Data Loading:</strong> PyTorch's DataLoader class works seamlessly with datasets to\n",
    "                load data in batches. This is essential for efficient training, especially when working with\n",
    "                large datasets that do not fit entirely in memory.\n",
    "            </li>\n",
    "            <li>\n",
    "                <strong>Data Augmentation:</strong> Datasets can be augmented by applying transformations\n",
    "                to the data samples. For example, you can apply random rotations, translations, or other\n",
    "                transformations to image data to increase the diversity of training examples.\n",
    "            </li>\n",
    "            <li>\n",
    "                <strong>Customization:</strong> You can create custom datasets tailored to your specific\n",
    "                machine learning or deep learning task. This is useful when working with non-standard data\n",
    "                formats or data sources.\n",
    "            </li>\n",
    "            <li>\n",
    "                <strong>Compatibility:</strong> PyTorch datasets are compatible with various data sources,\n",
    "                including images, text, time series, and more. You can easily adapt existing data sources \n",
    "                to work with PyTorch datasets.\n",
    "            </li>\n",
    "            <li>\n",
    "                <strong>Data Splitting:</strong> Datasets can be split into training, validation, and test sets,\n",
    "                ensuring that your machine learning model is evaluated properly on independent data. This is crucial \n",
    "                for estimating model generalization.\n",
    "            </li>\n",
    "      </ul>\n",
    "   </font>\n",
    "</p>"
   ]
  },
  {
   "cell_type": "markdown",
   "id": "432b7b09-8f03-4578-8944-d8455cb2edc2",
   "metadata": {},
   "source": [
    "### Importing Required Modules"
   ]
  },
  {
   "cell_type": "code",
   "execution_count": 1,
   "id": "f4cd002d",
   "metadata": {
    "tags": []
   },
   "outputs": [],
   "source": [
    "import torch\n",
    "from torch.utils.data import Dataset"
   ]
  },
  {
   "cell_type": "markdown",
   "id": "09f48e7c",
   "metadata": {},
   "source": [
    "### Creating Simple Dataset Class"
   ]
  },
  {
   "cell_type": "code",
   "execution_count": 2,
   "id": "e95249b6",
   "metadata": {
    "tags": []
   },
   "outputs": [],
   "source": [
    "class SimpleDataset(Dataset):\n",
    "    def __init__(self, length=100, transform=None):\n",
    "        self.x = 2 * torch.ones(100, 2)\n",
    "        self.y = torch.ones(100)\n",
    "        self.len = length\n",
    "        self.transform = transform\n",
    "\n",
    "    def __getitem__(self, index):\n",
    "        \"\"\"\n",
    "        __getitem__ method is used to get an item from the \n",
    "        invoked instances’ attribute. __getitem__ is commonly\n",
    "        used with containers like list, tuple, etc.\n",
    "        \"\"\"\n",
    "        sample = self.x[index], self.y[index]\n",
    "        if self.transform:\n",
    "            sample = self.transform(sample)\n",
    "        return sample\n",
    "    \n",
    "    def __len__(self):\n",
    "        \"\"\"\n",
    "        __len__ magic method is used to find the length of \n",
    "        the instance attributes. When we use len(instance), \n",
    "        it returns the length of the instance attribute which\n",
    "        is usually containers.\n",
    "        \"\"\"\n",
    "        return self.len"
   ]
  },
  {
   "cell_type": "code",
   "execution_count": 3,
   "id": "bf9b8e6f",
   "metadata": {
    "tags": []
   },
   "outputs": [],
   "source": [
    "# Creating an object\n",
    "data = SimpleDataset()"
   ]
  },
  {
   "cell_type": "code",
   "execution_count": 4,
   "id": "2d9084e5",
   "metadata": {
    "tags": []
   },
   "outputs": [
    {
     "data": {
      "text/plain": [
       "100"
      ]
     },
     "execution_count": 4,
     "metadata": {},
     "output_type": "execute_result"
    }
   ],
   "source": [
    "len(data)"
   ]
  },
  {
   "cell_type": "code",
   "execution_count": 5,
   "id": "fd3872dc",
   "metadata": {
    "tags": []
   },
   "outputs": [
    {
     "data": {
      "text/plain": [
       "(tensor([2., 2.]), tensor(1.))"
      ]
     },
     "execution_count": 5,
     "metadata": {},
     "output_type": "execute_result"
    }
   ],
   "source": [
    "# Accessing dataset elements\n",
    "data[0]"
   ]
  },
  {
   "cell_type": "code",
   "execution_count": 6,
   "id": "d859ea55",
   "metadata": {
    "tags": []
   },
   "outputs": [
    {
     "name": "stdout",
     "output_type": "stream",
     "text": [
      "0 x:tensor([2., 2.]) y:1.0\n",
      "1 x:tensor([2., 2.]) y:1.0\n",
      "2 x:tensor([2., 2.]) y:1.0\n"
     ]
    }
   ],
   "source": [
    "for i in range(3):\n",
    "    x, y = data[i]\n",
    "    print(i, f\"x:{x}\", f\"y:{y}\")"
   ]
  },
  {
   "cell_type": "markdown",
   "id": "f643d6b6",
   "metadata": {},
   "source": [
    "### Performing Transformations"
   ]
  },
  {
   "cell_type": "code",
   "execution_count": 7,
   "id": "69583d0b",
   "metadata": {
    "tags": []
   },
   "outputs": [],
   "source": [
    "# creating a transformer class\n",
    "class AddMulti(object):\n",
    "    def __init__(self, addx=1, multy=2):\n",
    "        self.addx = addx\n",
    "        self.multy = multy\n",
    "    \n",
    "    def __call__(self, sample):\n",
    "        \"\"\"\n",
    "        __call__ magic method is invoked when the instance of a class is invoked.\n",
    "        Instead of writing another method to perform certain operations, we can \n",
    "        use the __call__ method to directly call from the instance name.\n",
    "        \"\"\"\n",
    "        x = sample[0]\n",
    "        y = sample[1]\n",
    "        x_ = x + self.addx\n",
    "        y_ = y * self.multy\n",
    "        sample = x_, y_\n",
    "        return sample"
   ]
  },
  {
   "cell_type": "code",
   "execution_count": 8,
   "id": "6d1bec70",
   "metadata": {
    "tags": []
   },
   "outputs": [],
   "source": [
    "tran_obj = AddMulti()"
   ]
  },
  {
   "cell_type": "code",
   "execution_count": 9,
   "id": "c594a42d-8a3a-4415-aa67-fa7146b18c24",
   "metadata": {
    "tags": []
   },
   "outputs": [
    {
     "data": {
      "text/plain": [
       "(tensor([2., 2.]), tensor(1.))"
      ]
     },
     "execution_count": 9,
     "metadata": {},
     "output_type": "execute_result"
    }
   ],
   "source": [
    "# return X, y values, we created this dataset above\n",
    "data[0]"
   ]
  },
  {
   "cell_type": "code",
   "execution_count": 10,
   "id": "f00833ad",
   "metadata": {
    "tags": []
   },
   "outputs": [
    {
     "data": {
      "text/plain": [
       "(tensor([3., 3.]), tensor(2.))"
      ]
     },
     "execution_count": 10,
     "metadata": {},
     "output_type": "execute_result"
    }
   ],
   "source": [
    "# Example-1\n",
    "tran_obj(data[0])"
   ]
  },
  {
   "cell_type": "code",
   "execution_count": 11,
   "id": "22d41002-28f0-4457-9ba3-dc86f905cb47",
   "metadata": {
    "tags": []
   },
   "outputs": [
    {
     "data": {
      "text/plain": [
       "(5, 10)"
      ]
     },
     "execution_count": 11,
     "metadata": {},
     "output_type": "execute_result"
    }
   ],
   "source": [
    "# Example-2\n",
    "tran_obj([4, 5])"
   ]
  },
  {
   "cell_type": "code",
   "execution_count": 12,
   "id": "0e0d0742",
   "metadata": {
    "tags": []
   },
   "outputs": [],
   "source": [
    "# passing transformer object to SimpleDataset class\n",
    "dataset_ = SimpleDataset(transform=tran_obj)"
   ]
  },
  {
   "cell_type": "code",
   "execution_count": 13,
   "id": "c1d94f4a",
   "metadata": {
    "tags": []
   },
   "outputs": [
    {
     "data": {
      "text/plain": [
       "(tensor([3., 3.]), tensor(2.))"
      ]
     },
     "execution_count": 13,
     "metadata": {},
     "output_type": "execute_result"
    }
   ],
   "source": [
    "dataset_[0]"
   ]
  },
  {
   "cell_type": "markdown",
   "id": "b9c49fb0",
   "metadata": {},
   "source": [
    "### Transform Compose"
   ]
  },
  {
   "cell_type": "markdown",
   "id": "a5d7be07",
   "metadata": {},
   "source": [
    "Transforms Compose helps to run serveral tranforms in series."
   ]
  },
  {
   "cell_type": "code",
   "execution_count": 14,
   "id": "aee3df46",
   "metadata": {
    "tags": []
   },
   "outputs": [],
   "source": [
    "from torchvision.transforms import Compose"
   ]
  },
  {
   "cell_type": "code",
   "execution_count": 15,
   "id": "48294059",
   "metadata": {
    "tags": []
   },
   "outputs": [],
   "source": [
    "# Like above tranform class creating one more class\n",
    "# creating a transformer class\n",
    "class Multi(object):\n",
    "    def __init__(self, mult=100):\n",
    "        self.mult = mult\n",
    "    \n",
    "    def __call__(self, sample):\n",
    "        \"\"\"\n",
    "        __call__ magic method is invoked when the instance of a class is invoked.\n",
    "        Instead of writing another method to perform certain operations, we can \n",
    "        use the __call__ method to directly call from the instance name.\n",
    "        \"\"\"\n",
    "        x = sample[0]\n",
    "        y = sample[1]\n",
    "        x_ = x * self.mult\n",
    "        y_ = y * self.mult\n",
    "        sample = x_, y_\n",
    "        return sample"
   ]
  },
  {
   "cell_type": "code",
   "execution_count": 16,
   "id": "2830d84e",
   "metadata": {
    "tags": []
   },
   "outputs": [],
   "source": [
    "compose_obj = Compose([AddMulti(), Multi()])"
   ]
  },
  {
   "cell_type": "code",
   "execution_count": 17,
   "id": "87152fd9-c297-45d2-b358-597f8c5ac4e2",
   "metadata": {
    "tags": []
   },
   "outputs": [
    {
     "data": {
      "text/plain": [
       "(tensor([2., 2.]), tensor(1.))"
      ]
     },
     "execution_count": 17,
     "metadata": {},
     "output_type": "execute_result"
    }
   ],
   "source": [
    "# return X, y values, we created this dataset above\n",
    "data[0]"
   ]
  },
  {
   "cell_type": "code",
   "execution_count": 18,
   "id": "6c0d29ec",
   "metadata": {
    "tags": []
   },
   "outputs": [
    {
     "data": {
      "text/plain": [
       "(tensor([300., 300.]), tensor(200.))"
      ]
     },
     "execution_count": 18,
     "metadata": {},
     "output_type": "execute_result"
    }
   ],
   "source": [
    "# output of AddMulti(): (tensor([3., 3.]), tensor(2.))\n",
    "# output of Multi(): (tensor([3., 3.])*100, tensor(2.)*100) => (tensor([300., 300.]), tensor(200.))\n",
    "compose_obj(data[0])"
   ]
  },
  {
   "cell_type": "markdown",
   "id": "a6f33e68-8be6-48c3-90f9-7cad680a0f17",
   "metadata": {},
   "source": [
    "### TensorDataset"
   ]
  },
  {
   "cell_type": "markdown",
   "id": "2afdd207-312f-494a-ba57-d9a5588c7c7d",
   "metadata": {
    "tags": []
   },
   "source": [
    "Dataset wrapping tensors.\n",
    "Each sample will be retrieved by indexing tensors along the first dimension. <br>\n",
    "<b>Parameters</b>:<br>\n",
    "*tensors (Tensor) – tensors that have the same size of the first dimension."
   ]
  },
  {
   "cell_type": "code",
   "execution_count": 19,
   "id": "ed0988f9-62a7-47d0-b866-1153725522a6",
   "metadata": {
    "tags": []
   },
   "outputs": [],
   "source": [
    "from torch.utils.data import TensorDataset"
   ]
  },
  {
   "cell_type": "code",
   "execution_count": 20,
   "id": "5b2dbbe6-5efd-4098-bbcd-8644ecd7fcd1",
   "metadata": {
    "tags": []
   },
   "outputs": [
    {
     "data": {
      "text/plain": [
       "tensor([[1, 2, 3],\n",
       "        [5, 4, 1],\n",
       "        [5, 4, 2]])"
      ]
     },
     "execution_count": 20,
     "metadata": {},
     "output_type": "execute_result"
    }
   ],
   "source": [
    "input_feat = torch.tensor([[1, 2, 3], [5, 4, 1], [5, 4, 2]])\n",
    "input_feat"
   ]
  },
  {
   "cell_type": "code",
   "execution_count": 21,
   "id": "a348373a-d43a-4a99-a51b-cc79f99a065b",
   "metadata": {
    "tags": []
   },
   "outputs": [
    {
     "data": {
      "text/plain": [
       "tensor([0, 1, 2])"
      ]
     },
     "execution_count": 21,
     "metadata": {},
     "output_type": "execute_result"
    }
   ],
   "source": [
    "target_labels = torch.tensor([0, 1, 2])\n",
    "target_labels"
   ]
  },
  {
   "cell_type": "code",
   "execution_count": 22,
   "id": "afbe9dba-8e37-40eb-af64-8853dff511de",
   "metadata": {
    "tags": []
   },
   "outputs": [
    {
     "data": {
      "text/plain": [
       "<torch.utils.data.dataset.TensorDataset at 0x21f35751d90>"
      ]
     },
     "execution_count": 22,
     "metadata": {},
     "output_type": "execute_result"
    }
   ],
   "source": [
    "dataset = TensorDataset(input_feat, target_labels)\n",
    "dataset"
   ]
  },
  {
   "cell_type": "code",
   "execution_count": 23,
   "id": "a6e7acb5-957e-45d2-b0d2-1e96eea4c0fe",
   "metadata": {
    "tags": []
   },
   "outputs": [
    {
     "data": {
      "text/plain": [
       "(tensor([1, 2, 3]), tensor(0))"
      ]
     },
     "execution_count": 23,
     "metadata": {},
     "output_type": "execute_result"
    }
   ],
   "source": [
    "dataset[0]"
   ]
  },
  {
   "cell_type": "markdown",
   "id": "4b69d517-c1c6-4ce6-b2ad-6970b6fe8401",
   "metadata": {},
   "source": [
    "### DataLoader"
   ]
  },
  {
   "cell_type": "markdown",
   "id": "6671c429-da8a-4f99-9fbe-b992900831b3",
   "metadata": {},
   "source": [
    "DataLoader(dataset, batch_size=1, shuffle=False, sampler=None,\n",
    "           batch_sampler=None, num_workers=0, collate_fn=None,\n",
    "           pin_memory=False, drop_last=False, timeout=0,\n",
    "           worker_init_fn=None, *, prefetch_factor=2,\n",
    "           persistent_workers=False)"
   ]
  },
  {
   "cell_type": "markdown",
   "id": "bff8eb6e-ca3a-4546-a58d-de6f164f226d",
   "metadata": {},
   "source": [
    "<p style=\"text-align: justify; text-justify: inter-word;\">\n",
    "   <font size=3>\n",
    "       The DataLoader class in PyTorch is used to load data efficiently from a dataset, such as TensorDataset, during the training or testing phase of a machine learning model. It provides functionalities to split the dataset into batches and shuffle the data. <br>\n",
    "       <b>Parameters:</b><br>\n",
    "       It has many parameter below are some importants ones,<br>\n",
    "       <i>dataset</i>: Dataset<br>\n",
    "       <i>batch_size</i>: The batch_size determines the number of samples to be included in each batch.<br>\n",
    "       <i>shuffle</i>: By setting shuffle=True, the data in the dataset will be randomly shuffled before creating the batches.\n",
    "    </font>\n",
    "</p>"
   ]
  },
  {
   "cell_type": "markdown",
   "id": "ca9a7985-8bd7-47ba-998c-6ba6f0e00c36",
   "metadata": {},
   "source": [
    "<p style=\"text-align: justify; text-justify: inter-word;\">\n",
    "   <font size=3>\n",
    "       By using DataLoader, you can easily load and iterate over the data in batches, making it convenient to feed the data to your machine learning model for training or testing purposes.\n",
    "   </font>\n",
    "</p>"
   ]
  },
  {
   "cell_type": "code",
   "execution_count": 24,
   "id": "6454ecce-4308-4c6d-848a-e86e20dc3a1e",
   "metadata": {
    "tags": []
   },
   "outputs": [
    {
     "name": "stdout",
     "output_type": "stream",
     "text": [
      "Batch inputs: tensor([[1, 2, 3],\n",
      "        [7, 8, 9]])\n",
      "Batch targets: tensor([0, 0])\n",
      "\n",
      "Batch inputs: tensor([[4, 5, 6]])\n",
      "Batch targets: tensor([1])\n",
      "\n"
     ]
    }
   ],
   "source": [
    "from torch.utils.data import TensorDataset, DataLoader\n",
    "\n",
    "# Assuming we have a TensorDataset called \"dataset\"\n",
    "dataset = TensorDataset(\n",
    "    torch.tensor([[1, 2, 3], [4, 5, 6], [7, 8, 9]]),  # input features\n",
    "    torch.tensor([0, 1, 0])  # target labels\n",
    ")\n",
    "\n",
    "# Create a DataLoader by passing the dataset and batch size\n",
    "batch_size = 2\n",
    "dataloader = DataLoader(dataset, batch_size=batch_size, shuffle=True)\n",
    "\n",
    "# Iterate over the data in batches\n",
    "for inputs, targets in dataloader:\n",
    "    print(\"Batch inputs:\", inputs)\n",
    "    print(\"Batch targets:\", targets)\n",
    "    print()"
   ]
  },
  {
   "cell_type": "code",
   "execution_count": null,
   "id": "4ebf52fd-417b-4b40-85cd-56b7568f5ab8",
   "metadata": {},
   "outputs": [],
   "source": []
  }
 ],
 "metadata": {
  "kernelspec": {
   "display_name": "Python 3 (ipykernel)",
   "language": "python",
   "name": "python3"
  },
  "language_info": {
   "codemirror_mode": {
    "name": "ipython",
    "version": 3
   },
   "file_extension": ".py",
   "mimetype": "text/x-python",
   "name": "python",
   "nbconvert_exporter": "python",
   "pygments_lexer": "ipython3",
   "version": "3.11.2"
  }
 },
 "nbformat": 4,
 "nbformat_minor": 5
}
