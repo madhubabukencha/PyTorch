{
 "cells": [
  {
   "cell_type": "markdown",
   "id": "297e0277",
   "metadata": {},
   "source": [
    "<p style=\"color:#153462; \n",
    "          font-weight: bold; \n",
    "          font-size: 30px; \n",
    "          font-family: Gill Sans, sans-serif; \n",
    "          text-align: center;\">\n",
    "          Two dimentional Tensors</p>"
   ]
  },
  {
   "cell_type": "code",
   "execution_count": null,
   "id": "f6f91362",
   "metadata": {},
   "outputs": [],
   "source": [
    "import torch"
   ]
  },
  {
   "cell_type": "code",
   "execution_count": null,
   "id": "9fd505c7",
   "metadata": {},
   "outputs": [],
   "source": [
    "import numpy as np\n",
    "import pandas as pd"
   ]
  },
  {
   "cell_type": "code",
   "execution_count": null,
   "id": "0eb22b8b",
   "metadata": {},
   "outputs": [],
   "source": [
    "# Creating 2 dimentional tensor\n",
    "data = [[2, 14, 45], [255, 123, 0], [45, 32, 224]]\n",
    "tensor_data = torch.tensor(data)\n",
    "tensor_data"
   ]
  },
  {
   "cell_type": "code",
   "execution_count": null,
   "id": "b556452a",
   "metadata": {},
   "outputs": [],
   "source": [
    "# Checking dimention\n",
    "tensor_data.ndimension()"
   ]
  },
  {
   "cell_type": "code",
   "execution_count": null,
   "id": "7011ea6e",
   "metadata": {},
   "outputs": [],
   "source": [
    "# To check the shape\n",
    "tensor_data.shape"
   ]
  },
  {
   "cell_type": "code",
   "execution_count": null,
   "id": "60077cfe",
   "metadata": {},
   "outputs": [],
   "source": [
    "tensor_data.size()"
   ]
  },
  {
   "cell_type": "code",
   "execution_count": null,
   "id": "596b3309",
   "metadata": {},
   "outputs": [],
   "source": [
    "# To count total number of elements in the tensor\n",
    "tensor_data.numel()"
   ]
  },
  {
   "cell_type": "markdown",
   "id": "d00f61a6",
   "metadata": {},
   "source": [
    "<p style=\"color:#3C4048; \n",
    "          font-weight: bold; \n",
    "          font-size: 18px; \n",
    "          font-family: Gill Sans, sans-serif;\">\n",
    "          Accessing Tensor 2D-Data:</p>"
   ]
  },
  {
   "cell_type": "code",
   "execution_count": null,
   "id": "ce38c39c",
   "metadata": {},
   "outputs": [],
   "source": [
    "tensor_data"
   ]
  },
  {
   "cell_type": "code",
   "execution_count": null,
   "id": "b6b0af37",
   "metadata": {},
   "outputs": [],
   "source": [
    "# Accessing entire row\n",
    "tensor_data[0]"
   ]
  },
  {
   "cell_type": "code",
   "execution_count": null,
   "id": "c5e73daa",
   "metadata": {},
   "outputs": [],
   "source": [
    "# Accessing specific element\n",
    "# Mean: 2nd row, 2nd column element\n",
    "tensor_data[1, 1]"
   ]
  },
  {
   "cell_type": "code",
   "execution_count": null,
   "id": "d4c33bc9",
   "metadata": {},
   "outputs": [],
   "source": [
    "tensor_data[1][1]"
   ]
  },
  {
   "cell_type": "code",
   "execution_count": null,
   "id": "b0569900",
   "metadata": {},
   "outputs": [],
   "source": [
    "# accessing entire column\n",
    "tensor_data[:, 0]"
   ]
  },
  {
   "cell_type": "code",
   "execution_count": null,
   "id": "58b14d80",
   "metadata": {},
   "outputs": [],
   "source": [
    "# Accessing specific number of rows,\n",
    "tensor_data[0:2]\n",
    "#or\n",
    "tensor_data[0:2, :]"
   ]
  },
  {
   "cell_type": "code",
   "execution_count": null,
   "id": "b5c540f3",
   "metadata": {},
   "outputs": [],
   "source": [
    "# Accessing specific number of columns,\n",
    "tensor_data[:, 1:3]"
   ]
  },
  {
   "cell_type": "markdown",
   "id": "7b669312",
   "metadata": {},
   "source": [
    "### Tensor operations"
   ]
  },
  {
   "cell_type": "code",
   "execution_count": null,
   "id": "76b6f669",
   "metadata": {},
   "outputs": [],
   "source": [
    "# Tensor additions\n",
    "a = torch.tensor([[1, 2], [3, 4]])\n",
    "b = torch.tensor([[3, 3], [4, 3]])"
   ]
  },
  {
   "cell_type": "code",
   "execution_count": null,
   "id": "869efb0e",
   "metadata": {},
   "outputs": [],
   "source": [
    "# Tensor addtion\n",
    "a + b"
   ]
  },
  {
   "cell_type": "code",
   "execution_count": null,
   "id": "15990c89",
   "metadata": {},
   "outputs": [],
   "source": [
    "# scalar multiplication\n",
    "2*a"
   ]
  },
  {
   "cell_type": "code",
   "execution_count": null,
   "id": "44f5f23a",
   "metadata": {},
   "outputs": [],
   "source": [
    "# Elementwise product\n",
    "a*b"
   ]
  },
  {
   "cell_type": "code",
   "execution_count": null,
   "id": "3527f1fd",
   "metadata": {},
   "outputs": [],
   "source": [
    "# Matrix multiplication\n",
    "torch.mm(a, b)"
   ]
  },
  {
   "cell_type": "markdown",
   "id": "db3e28b8",
   "metadata": {},
   "source": [
    "<p style=\"color:#3C4048; \n",
    "          font-weight: bold; \n",
    "          font-size: 18px; \n",
    "          font-family: Gill Sans, sans-serif;\">\n",
    "          Conversion of tensor object into other objects and Vice Versa</p>"
   ]
  },
  {
   "cell_type": "code",
   "execution_count": null,
   "id": "6eb94125",
   "metadata": {},
   "outputs": [],
   "source": [
    "numpy_data = tensor_data.numpy()\n",
    "print(F\"Tensor to Numpy:\\n {numpy_data}\")\n",
    "print(F\"Data type of an numpy array: {numpy_data.dtype}\")\n",
    "print(\"==\"*18)\n",
    "new_tensor_data = torch.from_numpy(numpy_data)\n",
    "print(F\"From numpy array to Tensor:\\n{new_tensor_data}\")\n",
    "print(F\"Data type of an tensor: {new_tensor_data.dtype}\")"
   ]
  },
  {
   "cell_type": "code",
   "execution_count": null,
   "id": "9edaa416",
   "metadata": {},
   "outputs": [],
   "source": [
    "df = pd.DataFrame({\"a\": [1, 2, 3], \"b\": [3, 7, 5]})\n",
    "torch.from_numpy(df.values)"
   ]
  },
  {
   "cell_type": "code",
   "execution_count": null,
   "id": "1c0ebb0c",
   "metadata": {},
   "outputs": [],
   "source": []
  }
 ],
 "metadata": {
  "kernelspec": {
   "display_name": "Python 3 (ipykernel)",
   "language": "python",
   "name": "python3"
  },
  "language_info": {
   "codemirror_mode": {
    "name": "ipython",
    "version": 3
   },
   "file_extension": ".py",
   "mimetype": "text/x-python",
   "name": "python",
   "nbconvert_exporter": "python",
   "pygments_lexer": "ipython3",
   "version": "3.11.2"
  }
 },
 "nbformat": 4,
 "nbformat_minor": 5
}
