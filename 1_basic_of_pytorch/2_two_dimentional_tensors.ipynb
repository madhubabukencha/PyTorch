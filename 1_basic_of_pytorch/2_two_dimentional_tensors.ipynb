{
 "cells": [
  {
   "cell_type": "markdown",
   "id": "297e0277",
   "metadata": {},
   "source": [
    "<p style=\"color:#153462; \n",
    "          font-weight: bold; \n",
    "          font-size: 30px; \n",
    "          font-family: Gill Sans, sans-serif; \n",
    "          text-align: center;\">\n",
    "          Two dimentional Tensors</p>"
   ]
  },
  {
   "cell_type": "code",
   "execution_count": 1,
   "id": "f6f91362",
   "metadata": {},
   "outputs": [],
   "source": [
    "import torch"
   ]
  },
  {
   "cell_type": "code",
   "execution_count": 2,
   "id": "9fd505c7",
   "metadata": {},
   "outputs": [],
   "source": [
    "import numpy as np\n",
    "import pandas as pd"
   ]
  },
  {
   "cell_type": "code",
   "execution_count": 3,
   "id": "0eb22b8b",
   "metadata": {},
   "outputs": [
    {
     "data": {
      "text/plain": [
       "tensor([[  2,  14,  45],\n",
       "        [255, 123,   0],\n",
       "        [ 45,  32, 224]])"
      ]
     },
     "execution_count": 3,
     "metadata": {},
     "output_type": "execute_result"
    }
   ],
   "source": [
    "# Creating 2 dimentional tensor\n",
    "data = [[2, 14, 45], [255, 123, 0], [45, 32, 224]]\n",
    "tensor_data = torch.tensor(data)\n",
    "tensor_data"
   ]
  },
  {
   "cell_type": "code",
   "execution_count": 4,
   "id": "b556452a",
   "metadata": {},
   "outputs": [
    {
     "data": {
      "text/plain": [
       "2"
      ]
     },
     "execution_count": 4,
     "metadata": {},
     "output_type": "execute_result"
    }
   ],
   "source": [
    "# Checking dimention\n",
    "tensor_data.ndimension()"
   ]
  },
  {
   "cell_type": "code",
   "execution_count": 5,
   "id": "7011ea6e",
   "metadata": {},
   "outputs": [
    {
     "data": {
      "text/plain": [
       "torch.Size([3, 3])"
      ]
     },
     "execution_count": 5,
     "metadata": {},
     "output_type": "execute_result"
    }
   ],
   "source": [
    "# To check the shape\n",
    "tensor_data.shape"
   ]
  },
  {
   "cell_type": "code",
   "execution_count": 6,
   "id": "60077cfe",
   "metadata": {},
   "outputs": [
    {
     "data": {
      "text/plain": [
       "torch.Size([3, 3])"
      ]
     },
     "execution_count": 6,
     "metadata": {},
     "output_type": "execute_result"
    }
   ],
   "source": [
    "tensor_data.size()"
   ]
  },
  {
   "cell_type": "code",
   "execution_count": 7,
   "id": "596b3309",
   "metadata": {},
   "outputs": [
    {
     "data": {
      "text/plain": [
       "9"
      ]
     },
     "execution_count": 7,
     "metadata": {},
     "output_type": "execute_result"
    }
   ],
   "source": [
    "# To count total number of elements in the tensor\n",
    "tensor_data.numel()"
   ]
  },
  {
   "cell_type": "markdown",
   "id": "d00f61a6",
   "metadata": {},
   "source": [
    "<p style=\"color:#3C4048; \n",
    "          font-weight: bold; \n",
    "          font-size: 18px; \n",
    "          font-family: Gill Sans, sans-serif;\">\n",
    "          Accessing Tensor 2D-Data:</p>"
   ]
  },
  {
   "cell_type": "code",
   "execution_count": 8,
   "id": "ce38c39c",
   "metadata": {},
   "outputs": [
    {
     "data": {
      "text/plain": [
       "tensor([[  2,  14,  45],\n",
       "        [255, 123,   0],\n",
       "        [ 45,  32, 224]])"
      ]
     },
     "execution_count": 8,
     "metadata": {},
     "output_type": "execute_result"
    }
   ],
   "source": [
    "tensor_data"
   ]
  },
  {
   "cell_type": "code",
   "execution_count": 9,
   "id": "b6b0af37",
   "metadata": {},
   "outputs": [
    {
     "data": {
      "text/plain": [
       "tensor([ 2, 14, 45])"
      ]
     },
     "execution_count": 9,
     "metadata": {},
     "output_type": "execute_result"
    }
   ],
   "source": [
    "# Accessing entire row\n",
    "tensor_data[0]"
   ]
  },
  {
   "cell_type": "code",
   "execution_count": 10,
   "id": "c5e73daa",
   "metadata": {},
   "outputs": [
    {
     "data": {
      "text/plain": [
       "tensor(123)"
      ]
     },
     "execution_count": 10,
     "metadata": {},
     "output_type": "execute_result"
    }
   ],
   "source": [
    "# Accessing specific element\n",
    "# Mean: 2nd row, 2nd column element\n",
    "tensor_data[1, 1]"
   ]
  },
  {
   "cell_type": "code",
   "execution_count": 11,
   "id": "d4c33bc9",
   "metadata": {},
   "outputs": [
    {
     "data": {
      "text/plain": [
       "tensor(123)"
      ]
     },
     "execution_count": 11,
     "metadata": {},
     "output_type": "execute_result"
    }
   ],
   "source": [
    "tensor_data[1][1]"
   ]
  },
  {
   "cell_type": "code",
   "execution_count": 12,
   "id": "b0569900",
   "metadata": {},
   "outputs": [
    {
     "data": {
      "text/plain": [
       "tensor([  2, 255,  45])"
      ]
     },
     "execution_count": 12,
     "metadata": {},
     "output_type": "execute_result"
    }
   ],
   "source": [
    "# accessing entire column\n",
    "tensor_data[:, 0]"
   ]
  },
  {
   "cell_type": "code",
   "execution_count": 13,
   "id": "58b14d80",
   "metadata": {},
   "outputs": [
    {
     "data": {
      "text/plain": [
       "tensor([[  2,  14,  45],\n",
       "        [255, 123,   0]])"
      ]
     },
     "execution_count": 13,
     "metadata": {},
     "output_type": "execute_result"
    }
   ],
   "source": [
    "# Accessing specific number of rows,\n",
    "tensor_data[0:2]\n",
    "#or\n",
    "tensor_data[0:2, :]"
   ]
  },
  {
   "cell_type": "code",
   "execution_count": 14,
   "id": "b5c540f3",
   "metadata": {},
   "outputs": [
    {
     "data": {
      "text/plain": [
       "tensor([[ 14,  45],\n",
       "        [123,   0],\n",
       "        [ 32, 224]])"
      ]
     },
     "execution_count": 14,
     "metadata": {},
     "output_type": "execute_result"
    }
   ],
   "source": [
    "# Accessing specific number of columns,\n",
    "tensor_data[:, 1:3]"
   ]
  },
  {
   "cell_type": "markdown",
   "id": "7b669312",
   "metadata": {},
   "source": [
    "### Tensor operations"
   ]
  },
  {
   "cell_type": "code",
   "execution_count": 15,
   "id": "76b6f669",
   "metadata": {},
   "outputs": [],
   "source": [
    "# Tensor additions\n",
    "a = torch.tensor([[1, 2], [3, 4]])\n",
    "b = torch.tensor([[3, 3], [4, 3]])"
   ]
  },
  {
   "cell_type": "code",
   "execution_count": 16,
   "id": "869efb0e",
   "metadata": {},
   "outputs": [
    {
     "data": {
      "text/plain": [
       "tensor([[4, 5],\n",
       "        [7, 7]])"
      ]
     },
     "execution_count": 16,
     "metadata": {},
     "output_type": "execute_result"
    }
   ],
   "source": [
    "# Tensor addtion\n",
    "a + b"
   ]
  },
  {
   "cell_type": "code",
   "execution_count": 17,
   "id": "15990c89",
   "metadata": {},
   "outputs": [
    {
     "data": {
      "text/plain": [
       "tensor([[2, 4],\n",
       "        [6, 8]])"
      ]
     },
     "execution_count": 17,
     "metadata": {},
     "output_type": "execute_result"
    }
   ],
   "source": [
    "# scalar multiplication\n",
    "2*a"
   ]
  },
  {
   "cell_type": "code",
   "execution_count": 18,
   "id": "44f5f23a",
   "metadata": {},
   "outputs": [
    {
     "data": {
      "text/plain": [
       "tensor([[ 3,  6],\n",
       "        [12, 12]])"
      ]
     },
     "execution_count": 18,
     "metadata": {},
     "output_type": "execute_result"
    }
   ],
   "source": [
    "# Elementwise product\n",
    "a*b"
   ]
  },
  {
   "cell_type": "code",
   "execution_count": 19,
   "id": "3527f1fd",
   "metadata": {},
   "outputs": [
    {
     "data": {
      "text/plain": [
       "tensor([[11,  9],\n",
       "        [25, 21]])"
      ]
     },
     "execution_count": 19,
     "metadata": {},
     "output_type": "execute_result"
    }
   ],
   "source": [
    "# Matrix multiplication\n",
    "torch.mm(a, b)"
   ]
  },
  {
   "cell_type": "markdown",
   "id": "db3e28b8",
   "metadata": {},
   "source": [
    "<p style=\"color:#3C4048; \n",
    "          font-weight: bold; \n",
    "          font-size: 18px; \n",
    "          font-family: Gill Sans, sans-serif;\">\n",
    "          Conversion of tensor object into other objects and Vice Versa</p>"
   ]
  },
  {
   "cell_type": "code",
   "execution_count": 20,
   "id": "6eb94125",
   "metadata": {},
   "outputs": [
    {
     "name": "stdout",
     "output_type": "stream",
     "text": [
      "Tensor to Numpy:\n",
      " [[  2  14  45]\n",
      " [255 123   0]\n",
      " [ 45  32 224]]\n",
      "Data type of an numpy array: int64\n",
      "====================================\n",
      "From numpy array to Tensor:\n",
      "tensor([[  2,  14,  45],\n",
      "        [255, 123,   0],\n",
      "        [ 45,  32, 224]])\n",
      "Data type of an tensor: torch.int64\n"
     ]
    }
   ],
   "source": [
    "numpy_data = tensor_data.numpy()\n",
    "print(F\"Tensor to Numpy:\\n {numpy_data}\")\n",
    "print(F\"Data type of an numpy array: {numpy_data.dtype}\")\n",
    "print(\"==\"*18)\n",
    "new_tensor_data = torch.from_numpy(numpy_data)\n",
    "print(F\"From numpy array to Tensor:\\n{new_tensor_data}\")\n",
    "print(F\"Data type of an tensor: {new_tensor_data.dtype}\")"
   ]
  },
  {
   "cell_type": "code",
   "execution_count": 21,
   "id": "9edaa416",
   "metadata": {},
   "outputs": [
    {
     "data": {
      "text/plain": [
       "tensor([[1, 3],\n",
       "        [2, 7],\n",
       "        [3, 5]])"
      ]
     },
     "execution_count": 21,
     "metadata": {},
     "output_type": "execute_result"
    }
   ],
   "source": [
    "df = pd.DataFrame({\"a\": [1, 2, 3], \"b\": [3, 7, 5]})\n",
    "torch.from_numpy(df.values)"
   ]
  },
  {
   "cell_type": "code",
   "execution_count": null,
   "id": "1c0ebb0c",
   "metadata": {},
   "outputs": [],
   "source": []
  }
 ],
 "metadata": {
  "kernelspec": {
   "display_name": "Python 3 (ipykernel)",
   "language": "python",
   "name": "python3"
  },
  "language_info": {
   "codemirror_mode": {
    "name": "ipython",
    "version": 3
   },
   "file_extension": ".py",
   "mimetype": "text/x-python",
   "name": "python",
   "nbconvert_exporter": "python",
   "pygments_lexer": "ipython3",
   "version": "3.11.2"
  }
 },
 "nbformat": 4,
 "nbformat_minor": 5
}
