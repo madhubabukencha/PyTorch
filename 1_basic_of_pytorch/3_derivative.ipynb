{
 "cells": [
  {
   "cell_type": "markdown",
   "id": "c285159b",
   "metadata": {},
   "source": [
    "<p style=\"color:#153462; \n",
    "          font-weight: bold; \n",
    "          font-size: 30px; \n",
    "          font-family: Gill Sans, sans-serif; \n",
    "          text-align: center;\">\n",
    "          Derivatives in PyTorch</p>"
   ]
  },
  {
   "cell_type": "code",
   "execution_count": 1,
   "id": "b02e8799",
   "metadata": {
    "tags": []
   },
   "outputs": [],
   "source": [
    "import torch"
   ]
  },
  {
   "cell_type": "code",
   "execution_count": 2,
   "id": "3ed66812",
   "metadata": {
    "tags": []
   },
   "outputs": [],
   "source": [
    "import matplotlib.pyplot as plt"
   ]
  },
  {
   "cell_type": "markdown",
   "id": "05a93d58",
   "metadata": {},
   "source": [
    "We are creating a tensor <code>x</code> and setting a parameter <code>requires_grad</code> is True. It tells that we are going to take the derivative of tensor <code>x</code>."
   ]
  },
  {
   "cell_type": "code",
   "execution_count": 3,
   "id": "eb857a76",
   "metadata": {
    "tags": []
   },
   "outputs": [
    {
     "name": "stdout",
     "output_type": "stream",
     "text": [
      "The tensor x: tensor(4., requires_grad=True)\n"
     ]
    }
   ],
   "source": [
    "x = torch.tensor(4.0, requires_grad=True)\n",
    "print(\"The tensor x:\", x)"
   ]
  },
  {
   "cell_type": "code",
   "execution_count": 4,
   "id": "4ea83c89",
   "metadata": {
    "tags": []
   },
   "outputs": [
    {
     "name": "stdout",
     "output_type": "stream",
     "text": [
      "The value of y: tensor(64., grad_fn=<PowBackward0>)\n"
     ]
    }
   ],
   "source": [
    "y = x ** 3\n",
    "print(\"The value of y:\", y)"
   ]
  },
  {
   "cell_type": "markdown",
   "id": "3af3b792",
   "metadata": {},
   "source": [
    "The derivative of $x^3$ with respect to x is: <br>\n",
    "$\\frac{d(x^3)}{dx} = 3 (x)^2$ <br>\n",
    "$f(3)=3(4)^2$<br>\n",
    "$f(3)= 3 * 16 = 48$"
   ]
  },
  {
   "cell_type": "code",
   "execution_count": 5,
   "id": "fa51e04f",
   "metadata": {
    "tags": []
   },
   "outputs": [
    {
     "name": "stdout",
     "output_type": "stream",
     "text": [
      "The derivative at x = 3: tensor(48.)\n"
     ]
    }
   ],
   "source": [
    "y.backward()\n",
    "print(\"The derivative at x = 3:\", x.grad)"
   ]
  },
  {
   "cell_type": "markdown",
   "id": "cd4aac4f",
   "metadata": {},
   "source": [
    "<p style=\"color:#3C4048; \n",
    "          font-weight: bold; \n",
    "          font-size: 18px; \n",
    "          font-family: Gill Sans, sans-serif;\">\n",
    "          Printing information about x and y:</p>"
   ]
  },
  {
   "cell_type": "code",
   "execution_count": 6,
   "id": "65be8e1e",
   "metadata": {
    "tags": []
   },
   "outputs": [
    {
     "name": "stdout",
     "output_type": "stream",
     "text": [
      "data\t\t: tensor(4.)\n",
      "grad_fn\t\t: None\n",
      "grad\t\t: tensor(48.)\n",
      "is_leaf\t\t: True\n",
      "requires_grad\t: True\n"
     ]
    }
   ],
   "source": [
    "print(\"data\\t\\t:\", x.data)\n",
    "print(\"grad_fn\\t\\t:\", x.grad_fn)\n",
    "print(\"grad\\t\\t:\", x.grad)\n",
    "print(\"is_leaf\\t\\t:\", x.is_leaf)\n",
    "print(\"requires_grad\\t:\", x.requires_grad)"
   ]
  },
  {
   "cell_type": "code",
   "execution_count": 7,
   "id": "8ec42413",
   "metadata": {
    "tags": []
   },
   "outputs": [
    {
     "name": "stdout",
     "output_type": "stream",
     "text": [
      "data\t\t: tensor(64.)\n",
      "grad_fn\t\t: <PowBackward0 object at 0x000001B964666DD0>\n",
      "grad\t\t: None\n",
      "is_leaf\t\t: False\n",
      "requires_grad\t: True\n"
     ]
    },
    {
     "name": "stderr",
     "output_type": "stream",
     "text": [
      "C:\\Users\\madhubabukencha\\AppData\\Local\\Temp\\ipykernel_2384\\4056273847.py:3: UserWarning: The .grad attribute of a Tensor that is not a leaf Tensor is being accessed. Its .grad attribute won't be populated during autograd.backward(). If you indeed want the .grad field to be populated for a non-leaf Tensor, use .retain_grad() on the non-leaf Tensor. If you access the non-leaf Tensor by mistake, make sure you access the leaf Tensor instead. See github.com/pytorch/pytorch/pull/30531 for more informations. (Triggered internally at aten\\src\\ATen/core/TensorBody.h:491.)\n",
      "  print(\"grad\\t\\t:\", y.grad)\n"
     ]
    }
   ],
   "source": [
    "print(\"data\\t\\t:\", y.data)\n",
    "print(\"grad_fn\\t\\t:\", y.grad_fn)\n",
    "print(\"grad\\t\\t:\", y.grad)\n",
    "print(\"is_leaf\\t\\t:\", y.is_leaf)\n",
    "print(\"requires_grad\\t:\", y.requires_grad)"
   ]
  },
  {
   "cell_type": "markdown",
   "id": "be1f9efa",
   "metadata": {},
   "source": [
    "<p style=\"color:#3C4048; \n",
    "          font-weight: bold; \n",
    "          font-size: 18px; \n",
    "          font-family: Gill Sans, sans-serif;\">\n",
    "          Applying same thing on some complex equation:</p>"
   ]
  },
  {
   "cell_type": "markdown",
   "id": "8fbec2af",
   "metadata": {},
   "source": [
    "Finding the derivative for: $x^{2} + 2x + 5$ at x=2 <br>\n",
    "$\\frac{\\mathrm{dy(x)}}{\\mathrm{dx}}=2x+2$\n",
    "\n",
    "$\\frac{\\mathrm{dy(x=2)}}{\\mathrm{dx}}=2(2)+2=6$\n"
   ]
  },
  {
   "cell_type": "code",
   "execution_count": 8,
   "id": "624782d5",
   "metadata": {
    "tags": []
   },
   "outputs": [
    {
     "name": "stdout",
     "output_type": "stream",
     "text": [
      "The derivative at x = 2: tensor(6.)\n"
     ]
    }
   ],
   "source": [
    "x = torch.tensor(2.0, requires_grad=True)\n",
    "y = (x**2) + 2 * x + 5\n",
    "y.backward()\n",
    "print(\"The derivative at x = 2:\", x.grad)"
   ]
  },
  {
   "cell_type": "markdown",
   "id": "10862050",
   "metadata": {},
   "source": [
    "<p style=\"color:#3C4048; \n",
    "          font-weight: bold; \n",
    "          font-size: 18px; \n",
    "          font-family: Gill Sans, sans-serif;\">\n",
    "          Partial Derivatives:</p>"
   ]
  },
  {
   "cell_type": "markdown",
   "id": "b96036c7",
   "metadata": {},
   "source": [
    "We will calculate paritial derivative for $f(u, v) = u * v + u^2$ where $u = 1, v = 2$"
   ]
  },
  {
   "cell_type": "markdown",
   "id": "bd9f4dd5",
   "metadata": {},
   "source": [
    "First we will calculate it by hand. For better understanding about multivariate paritial differentions read an artical called <a href=\"http://www.columbia.edu/itc/sipa/math/calc_rules_multivar.html\">Rules of calculus - multivariate</a><br> <br>\n",
    "Derivative with respective to u,<br>\n",
    "$\\frac{d f(u, v)}{du} = v * \\frac{du}{du} + \\frac{d(u^2)}{du}$ <br>\n",
    "$\\frac{d f(u, v)}{du} = v * 1 + 2 * u => v + 2u$<br>\n",
    "when we substitute u and v values,<br>\n",
    "$ => 2 + 2(1) => 4$ <br>\n",
    "=================== <br>\n",
    "Derivative with respective to v,<br>\n",
    "$\\frac{d f(u, v)}{dv} = u * \\frac{dv}{dv} + \\frac{d(u^2)}{dv}$ <br>\n",
    "$\\frac{d f(u, v)}{dv} = u * 1 + 0$, here $u$ treated as constant <br>\n",
    "$\\frac{d f(u, v)}{dv} = 1 * 1 => 1$"
   ]
  },
  {
   "cell_type": "code",
   "execution_count": 9,
   "id": "44f20bad",
   "metadata": {
    "tags": []
   },
   "outputs": [],
   "source": [
    "u = torch.tensor(1.0, requires_grad=True)\n",
    "v = torch.tensor(2.0, requires_grad=True)\n",
    "z = u * v + u**2\n",
    "z.backward()"
   ]
  },
  {
   "cell_type": "code",
   "execution_count": 11,
   "id": "fb3063ca",
   "metadata": {
    "tags": []
   },
   "outputs": [
    {
     "name": "stdout",
     "output_type": "stream",
     "text": [
      "Derivative with respective u: tensor(4.)\n",
      "Derivative with respective v: tensor(1.)\n"
     ]
    }
   ],
   "source": [
    "print(\"Derivative with respective u:\", u.grad)\n",
    "print(\"Derivative with respective v:\", v.grad)"
   ]
  },
  {
   "cell_type": "markdown",
   "id": "6f311a1f",
   "metadata": {},
   "source": [
    "<p style=\"color:#3C4048; \n",
    "          font-weight: bold; \n",
    "          font-size: 18px; \n",
    "          font-family: Gill Sans, sans-serif;\">\n",
    "          Getting derivatives for list of values:</p>"
   ]
  },
  {
   "cell_type": "code",
   "execution_count": 12,
   "id": "92265f35",
   "metadata": {
    "tags": []
   },
   "outputs": [
    {
     "name": "stdout",
     "output_type": "stream",
     "text": [
      "x: tensor([-10.0000,  -7.7778,  -5.5556,  -3.3333,  -1.1111,   1.1111,   3.3333,\n",
      "          5.5556,   7.7778,  10.0000], requires_grad=True)\n",
      "y: tensor([100.0000,  60.4938,  30.8642,  11.1111,   1.2346,   1.2346,  11.1111,\n",
      "         30.8642,  60.4938, 100.0000], grad_fn=<PowBackward0>)\n"
     ]
    }
   ],
   "source": [
    "# derivative with multiple values\n",
    "x = torch.linspace(-10, 10, 10, requires_grad=True)\n",
    "Y = x ** 2\n",
    "print(\"x:\", x)\n",
    "print(\"y:\", Y)"
   ]
  },
  {
   "cell_type": "code",
   "execution_count": 13,
   "id": "2edbd42d",
   "metadata": {
    "tags": []
   },
   "outputs": [
    {
     "data": {
      "text/plain": [
       "array([100.       ,  60.493824 ,  30.864195 ,  11.111109 ,   1.2345669,\n",
       "         1.2345669,  11.111109 ,  30.864195 ,  60.493824 , 100.       ],\n",
       "      dtype=float32)"
      ]
     },
     "execution_count": 13,
     "metadata": {},
     "output_type": "execute_result"
    }
   ],
   "source": [
    "Y.detach().numpy()"
   ]
  },
  {
   "cell_type": "code",
   "execution_count": 14,
   "id": "18baa90b",
   "metadata": {
    "tags": []
   },
   "outputs": [],
   "source": [
    "# This is the technique to get derivative for list of values\n",
    "y = torch.sum(x**2)"
   ]
  },
  {
   "cell_type": "code",
   "execution_count": 15,
   "id": "82274bb3",
   "metadata": {
    "tags": []
   },
   "outputs": [],
   "source": [
    "y.backward()"
   ]
  },
  {
   "cell_type": "code",
   "execution_count": 16,
   "id": "901f6730",
   "metadata": {
    "tags": []
   },
   "outputs": [
    {
     "data": {
      "text/plain": [
       "array([-20.       , -15.555555 , -11.111111 ,  -6.666666 ,  -2.2222214,\n",
       "         2.2222214,   6.666666 ,  11.111111 ,  15.555555 ,  20.       ],\n",
       "      dtype=float32)"
      ]
     },
     "execution_count": 16,
     "metadata": {},
     "output_type": "execute_result"
    }
   ],
   "source": [
    "x.grad.detach().numpy()"
   ]
  },
  {
   "cell_type": "code",
   "execution_count": 29,
   "id": "89a16ae2",
   "metadata": {},
   "outputs": [
    {
     "data": {
      "image/png": "[encoded data removed]",
      "text/plain": [
       "<Figure size 640x480 with 1 Axes>"
      ]
     },
     "metadata": {},
     "output_type": "display_data"
    }
   ],
   "source": [
    "plt.plot(x.detach().numpy(), Y.detach().numpy(), label=\"Function\")\n",
    "plt.plot(x.detach().numpy(), x.grad.detach().numpy(), label=\"Derivative\")\n",
    "plt.legend()\n",
    "plt.show()"
   ]
  },
  {
   "cell_type": "code",
   "execution_count": null,
   "id": "d3c72028",
   "metadata": {},
   "outputs": [],
   "source": []
  }
 ],
 "metadata": {
  "kernelspec": {
   "display_name": "Python 3 (ipykernel)",
   "language": "python",
   "name": "python3"
  },
  "language_info": {
   "codemirror_mode": {
    "name": "ipython",
    "version": 3
   },
   "file_extension": ".py",
   "mimetype": "text/x-python",
   "name": "python",
   "nbconvert_exporter": "python",
   "pygments_lexer": "ipython3",
   "version": "3.11.2"
  }
 },
 "nbformat": 4,
 "nbformat_minor": 5
}
