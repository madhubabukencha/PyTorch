{
 "cells": [
  {
   "cell_type": "markdown",
   "id": "60b13202",
   "metadata": {},
   "source": [
    "<p style=\"color:#153462; \n",
    "          font-weight: bold; \n",
    "          font-size: 30px; \n",
    "          font-family: Gill Sans, sans-serif; \n",
    "          text-align: center;\">\n",
    "          Basics of PyTorch</p>"
   ]
  },
  {
   "cell_type": "markdown",
   "id": "d4f8e6d4",
   "metadata": {},
   "source": [
    "Tensors are arrays. 0-D tensor is just a number like, 1, 2, .5, 10 etc.., and 1-D tensors are just an array of numbers. For example a row in database table, vectors and time series data etc..,"
   ]
  },
  {
   "cell_type": "markdown",
   "id": "41457cbb-626a-4787-8afb-8a694aa1fa4a",
   "metadata": {},
   "source": [
    "### Importing Required Modules"
   ]
  },
  {
   "cell_type": "code",
   "execution_count": 1,
   "id": "98cc6855",
   "metadata": {},
   "outputs": [],
   "source": [
    "import torch"
   ]
  },
  {
   "cell_type": "code",
   "execution_count": 2,
   "id": "437d6749",
   "metadata": {},
   "outputs": [
    {
     "data": {
      "text/plain": [
       "'2.0.0+cu117'"
      ]
     },
     "execution_count": 2,
     "metadata": {},
     "output_type": "execute_result"
    }
   ],
   "source": [
    "# To check version\n",
    "torch.__version__"
   ]
  },
  {
   "cell_type": "code",
   "execution_count": 3,
   "id": "7eac0f35",
   "metadata": {},
   "outputs": [],
   "source": [
    "import pandas as pd\n",
    "import numpy as np"
   ]
  },
  {
   "cell_type": "code",
   "execution_count": 4,
   "id": "8bcf1ea1",
   "metadata": {},
   "outputs": [],
   "source": [
    "import matplotlib.pyplot as plt"
   ]
  },
  {
   "cell_type": "markdown",
   "id": "8e2f9675-002e-4f87-8e38-510db02ece80",
   "metadata": {},
   "source": [
    "### Creation of Tensor & Type Check"
   ]
  },
  {
   "cell_type": "code",
   "execution_count": 5,
   "id": "85e41d28",
   "metadata": {},
   "outputs": [],
   "source": [
    "# Creating a tensor\n",
    "a = torch.tensor([1, 2, 3, 4])\n",
    "\n",
    "# can also create a tensor using below Tensor class\n",
    "# x = torch.Tensor([1, 2, 3])"
   ]
  },
  {
   "cell_type": "code",
   "execution_count": 6,
   "id": "781ff509",
   "metadata": {},
   "outputs": [
    {
     "data": {
      "text/plain": [
       "('torch.LongTensor', torch.int64)"
      ]
     },
     "execution_count": 6,
     "metadata": {},
     "output_type": "execute_result"
    }
   ],
   "source": [
    "a.type(), a.dtype"
   ]
  },
  {
   "cell_type": "markdown",
   "id": "99379430",
   "metadata": {},
   "source": [
    "Below is the pytorch data types,\n",
    "<img src=\"images/data_types.png\" alt=\"data_types\" style=\"width: 800px;\"/>"
   ]
  },
  {
   "cell_type": "code",
   "execution_count": 7,
   "id": "7d5f6cf4-7b00-4d09-8975-d325e193d658",
   "metadata": {
    "tags": []
   },
   "outputs": [
    {
     "data": {
      "text/plain": [
       "tensor([ 1.0000,  0.2300, 34.2300, -1.0000,  0.0000,  0.3400])"
      ]
     },
     "execution_count": 7,
     "metadata": {},
     "output_type": "execute_result"
    }
   ],
   "source": [
    "# Creating a tensor with different data types\n",
    "torch.tensor([1, 0.23, 34.23, -1, 0, .34])"
   ]
  },
  {
   "cell_type": "markdown",
   "id": "bcc81697",
   "metadata": {},
   "source": [
    "### Accessing and Updating Tensor values"
   ]
  },
  {
   "cell_type": "code",
   "execution_count": 8,
   "id": "1beb4d03",
   "metadata": {},
   "outputs": [
    {
     "data": {
      "text/plain": [
       "(tensor(1), tensor([1, 2, 3]))"
      ]
     },
     "execution_count": 8,
     "metadata": {},
     "output_type": "execute_result"
    }
   ],
   "source": [
    "# accessing tensor values. Individual values of tensor also treated as tensors\n",
    "a[0], a[:3]"
   ]
  },
  {
   "cell_type": "code",
   "execution_count": 9,
   "id": "14e5c280",
   "metadata": {},
   "outputs": [
    {
     "data": {
      "text/plain": [
       "1"
      ]
     },
     "execution_count": 9,
     "metadata": {},
     "output_type": "execute_result"
    }
   ],
   "source": [
    "# To get python number from a tensor\n",
    "a[0].item()"
   ]
  },
  {
   "cell_type": "code",
   "execution_count": 10,
   "id": "60304571",
   "metadata": {},
   "outputs": [
    {
     "data": {
      "text/plain": [
       "tensor([200,   2,   3,   4])"
      ]
     },
     "execution_count": 10,
     "metadata": {},
     "output_type": "execute_result"
    }
   ],
   "source": [
    "# Updating Tensor values\n",
    "a[0] = 200\n",
    "a"
   ]
  },
  {
   "cell_type": "code",
   "execution_count": 11,
   "id": "ef1bd669",
   "metadata": {},
   "outputs": [
    {
     "ename": "TypeError",
     "evalue": "can't assign a list to a torch.LongTensor",
     "output_type": "error",
     "traceback": [
      "\u001b[1;31m---------------------------------------------------------------------------\u001b[0m",
      "\u001b[1;31mTypeError\u001b[0m                                 Traceback (most recent call last)",
      "Cell \u001b[1;32mIn[11], line 3\u001b[0m\n\u001b[0;32m      1\u001b[0m \u001b[38;5;66;03m# To update multiple tensor values, we need a tensor values only. \u001b[39;00m\n\u001b[0;32m      2\u001b[0m \u001b[38;5;66;03m# Passing below error throws an Error\u001b[39;00m\n\u001b[1;32m----> 3\u001b[0m \u001b[43ma\u001b[49m\u001b[43m[\u001b[49m\u001b[38;5;241;43m2\u001b[39;49m\u001b[43m:\u001b[49m\u001b[38;5;241;43m4\u001b[39;49m\u001b[43m]\u001b[49m \u001b[38;5;241m=\u001b[39m [\u001b[38;5;241m500\u001b[39m, \u001b[38;5;241m300\u001b[39m]\n\u001b[0;32m      4\u001b[0m a\n",
      "\u001b[1;31mTypeError\u001b[0m: can't assign a list to a torch.LongTensor"
     ]
    }
   ],
   "source": [
    "# To update multiple tensor values, we need a tensor values only. \n",
    "# Passing below error throws an Error\n",
    "a[2:4] = [500, 300]\n",
    "a"
   ]
  },
  {
   "cell_type": "code",
   "execution_count": 12,
   "id": "80e8a93c",
   "metadata": {},
   "outputs": [
    {
     "data": {
      "text/plain": [
       "tensor([200,   2, 500, 900])"
      ]
     },
     "execution_count": 12,
     "metadata": {},
     "output_type": "execute_result"
    }
   ],
   "source": [
    "a[2:4] = torch.Tensor([500, 900])\n",
    "a"
   ]
  },
  {
   "cell_type": "code",
   "execution_count": 13,
   "id": "635a51f7",
   "metadata": {},
   "outputs": [
    {
     "name": "stdout",
     "output_type": "stream",
     "text": [
      "Original Tensor Data: tensor([0, 1, 2, 3, 4, 5, 6, 7, 8, 9])\n",
      "Accessing index values of 1, 7, 9: tensor([1, 7, 9])\n",
      "Updating index values of 1, 7, 9 to 999: tensor([  0, 999,   2,   3,   4,   5,   6, 999,   8, 999])\n"
     ]
    }
   ],
   "source": [
    "# To Accessing and updating multiple index values\n",
    "data = torch.tensor(range(0, 10), dtype=torch.int64)\n",
    "print(F\"Original Tensor Data: {data}\")\n",
    "print(F\"Accessing index values of 1, 7, 9: {data[[1, 7, 9]]}\")\n",
    "data[[1, 7, 9]] = 999\n",
    "print(F\"Updating index values of 1, 7, 9 to 999: {data}\")"
   ]
  },
  {
   "cell_type": "markdown",
   "id": "21118780",
   "metadata": {},
   "source": [
    "### Type Conversion, Size, Dimention & Shape of Tensor "
   ]
  },
  {
   "cell_type": "code",
   "execution_count": 14,
   "id": "9ef85ac8",
   "metadata": {},
   "outputs": [
    {
     "data": {
      "text/plain": [
       "tensor([ 1.0000,  0.2000,  4.0000, 45.2340])"
      ]
     },
     "execution_count": 14,
     "metadata": {},
     "output_type": "execute_result"
    }
   ],
   "source": [
    "# Creating a tensor with float values\n",
    "a = torch.tensor([1, 2, 3, 4])\n",
    "b = torch.tensor([1.0, 0.2, 4, 45.234])\n",
    "b"
   ]
  },
  {
   "cell_type": "code",
   "execution_count": 15,
   "id": "85b9d02f",
   "metadata": {},
   "outputs": [
    {
     "data": {
      "text/plain": [
       "('torch.FloatTensor', torch.float32)"
      ]
     },
     "execution_count": 15,
     "metadata": {},
     "output_type": "execute_result"
    }
   ],
   "source": [
    "b.type(), b.dtype"
   ]
  },
  {
   "cell_type": "code",
   "execution_count": 16,
   "id": "f2197267",
   "metadata": {},
   "outputs": [
    {
     "name": "stdout",
     "output_type": "stream",
     "text": [
      "Converted from Float tensor to Int tensor: tensor([ 1,  0,  4, 45])\n"
     ]
    }
   ],
   "source": [
    "# We can specify dtype while creating tensor also\n",
    "c = torch.tensor([1.0, 0.2, 4, 45.234], dtype=torch.int64)\n",
    "print(F\"Converted from Float tensor to Int tensor: {c}\")"
   ]
  },
  {
   "cell_type": "code",
   "execution_count": 17,
   "id": "97aedcc8",
   "metadata": {},
   "outputs": [
    {
     "data": {
      "text/plain": [
       "tensor([1.0000, 2.0000, 0.4000, 0.9800])"
      ]
     },
     "execution_count": 17,
     "metadata": {},
     "output_type": "execute_result"
    }
   ],
   "source": [
    "# To create tensor with explicit data type\n",
    "torch.FloatTensor([1, 2, 0.4, 0.98])"
   ]
  },
  {
   "cell_type": "code",
   "execution_count": 18,
   "id": "f21d85b6",
   "metadata": {},
   "outputs": [
    {
     "name": "stdout",
     "output_type": "stream",
     "text": [
      "Before Converting Int Tensor to Float Tensor: tensor([1, 2, 3, 4])\n",
      "Converting Int Tensor to Float Tensor: tensor([1., 2., 3., 4.])\n"
     ]
    }
   ],
   "source": [
    "# To convert one data type to other\n",
    "print(F\"Before Converting Int Tensor to Float Tensor: {a}\")\n",
    "a = a.type(torch.FloatTensor)\n",
    "print(F\"Converting Int Tensor to Float Tensor: {a}\")"
   ]
  },
  {
   "cell_type": "code",
   "execution_count": 19,
   "id": "8ae2543a",
   "metadata": {},
   "outputs": [
    {
     "data": {
      "text/plain": [
       "torch.Size([4])"
      ]
     },
     "execution_count": 19,
     "metadata": {},
     "output_type": "execute_result"
    }
   ],
   "source": [
    "# To check the size\n",
    "a.size()"
   ]
  },
  {
   "cell_type": "code",
   "execution_count": 20,
   "id": "be335c85-572d-498c-91bd-143d4d7c5a64",
   "metadata": {
    "tags": []
   },
   "outputs": [
    {
     "data": {
      "text/plain": [
       "4"
      ]
     },
     "execution_count": 20,
     "metadata": {},
     "output_type": "execute_result"
    }
   ],
   "source": [
    "a.size(dim=0)"
   ]
  },
  {
   "cell_type": "code",
   "execution_count": 21,
   "id": "2d26b65f",
   "metadata": {},
   "outputs": [
    {
     "data": {
      "text/plain": [
       "1"
      ]
     },
     "execution_count": 21,
     "metadata": {},
     "output_type": "execute_result"
    }
   ],
   "source": [
    "# To check its dimention\n",
    "a.ndimension()"
   ]
  },
  {
   "cell_type": "code",
   "execution_count": 22,
   "id": "66ce3f7a-6be5-48ed-95b4-c2c08476b85e",
   "metadata": {
    "tags": []
   },
   "outputs": [
    {
     "data": {
      "text/plain": [
       "torch.Size([4])"
      ]
     },
     "execution_count": 22,
     "metadata": {},
     "output_type": "execute_result"
    }
   ],
   "source": [
    "a.shape"
   ]
  },
  {
   "cell_type": "markdown",
   "id": "a63c095f",
   "metadata": {},
   "source": [
    "### Reshaping Tensor"
   ]
  },
  {
   "cell_type": "code",
   "execution_count": 23,
   "id": "3d469551",
   "metadata": {},
   "outputs": [],
   "source": [
    "a = torch.tensor([1, 2, 3, 4])"
   ]
  },
  {
   "cell_type": "code",
   "execution_count": 24,
   "id": "79b29ce0",
   "metadata": {},
   "outputs": [
    {
     "data": {
      "text/plain": [
       "tensor([[1],\n",
       "        [2],\n",
       "        [3],\n",
       "        [4]])"
      ]
     },
     "execution_count": 24,
     "metadata": {},
     "output_type": "execute_result"
    }
   ],
   "source": [
    "# To change it to 2D array\n",
    "a.view(4, 1)"
   ]
  },
  {
   "cell_type": "code",
   "execution_count": 25,
   "id": "a17caa6b",
   "metadata": {},
   "outputs": [
    {
     "data": {
      "text/plain": [
       "tensor([[1, 2],\n",
       "        [3, 4]])"
      ]
     },
     "execution_count": 25,
     "metadata": {},
     "output_type": "execute_result"
    }
   ],
   "source": [
    "# Another way to change the shape, you can use -1 for one dimention if you don't\n",
    "# know exact value\n",
    "a.view(-1, 2)"
   ]
  },
  {
   "cell_type": "code",
   "execution_count": 26,
   "id": "9b9a337f-6a94-43aa-b51e-e755861af5c4",
   "metadata": {
    "tags": []
   },
   "outputs": [
    {
     "data": {
      "text/plain": [
       "tensor([[1, 2, 3, 4]])"
      ]
     },
     "execution_count": 26,
     "metadata": {},
     "output_type": "execute_result"
    }
   ],
   "source": [
    "a.view(-1, 4)"
   ]
  },
  {
   "cell_type": "code",
   "execution_count": 27,
   "id": "73daaa2c-104b-4cbc-be0d-5ebdf6286d57",
   "metadata": {
    "tags": []
   },
   "outputs": [
    {
     "data": {
      "text/plain": [
       "tensor([1, 2, 3, 4])"
      ]
     },
     "execution_count": 27,
     "metadata": {},
     "output_type": "execute_result"
    }
   ],
   "source": [
    "a.view(-1)"
   ]
  },
  {
   "cell_type": "code",
   "execution_count": 28,
   "id": "57c16a1a",
   "metadata": {},
   "outputs": [
    {
     "data": {
      "text/plain": [
       "tensor([[1, 2],\n",
       "        [3, 4]])"
      ]
     },
     "execution_count": 28,
     "metadata": {},
     "output_type": "execute_result"
    }
   ],
   "source": [
    "y = a.view(2,2)\n",
    "y"
   ]
  },
  {
   "cell_type": "code",
   "execution_count": 29,
   "id": "2e1eef71",
   "metadata": {},
   "outputs": [
    {
     "data": {
      "text/plain": [
       "(2, torch.Size([2, 2]))"
      ]
     },
     "execution_count": 29,
     "metadata": {},
     "output_type": "execute_result"
    }
   ],
   "source": [
    "y.ndimension(), y.shape"
   ]
  },
  {
   "cell_type": "markdown",
   "id": "2a95a76c-5a0e-4e7b-92d1-cc1d4ddd826f",
   "metadata": {},
   "source": [
    "### Concatenation"
   ]
  },
  {
   "cell_type": "markdown",
   "id": "5ee67b51-9409-470f-8c63-cc434760ae4c",
   "metadata": {},
   "source": [
    "Concatenates the given sequence of seq tensors in the given dimension. All tensors must either have the same shape (except in the concatenating dimension) or be empty. This concatenation step frequently used in neural networks"
   ]
  },
  {
   "cell_type": "code",
   "execution_count": 30,
   "id": "f52e7194-488b-4ea9-9343-a35216b7a391",
   "metadata": {
    "tags": []
   },
   "outputs": [
    {
     "data": {
      "text/plain": [
       "torch.Size([1, 4])"
      ]
     },
     "execution_count": 30,
     "metadata": {},
     "output_type": "execute_result"
    }
   ],
   "source": [
    "torch.tensor([[1, 2, 3, 4]]).shape"
   ]
  },
  {
   "cell_type": "code",
   "execution_count": 31,
   "id": "214a341f-02e5-498f-a644-e566a515f738",
   "metadata": {
    "tags": []
   },
   "outputs": [],
   "source": [
    "data = [torch.tensor([[1, 2, 3, 4]]), torch.tensor([[4, 5, 6, 7]])]"
   ]
  },
  {
   "cell_type": "code",
   "execution_count": 32,
   "id": "39582518-27db-4d0a-8db5-f13bccf8612a",
   "metadata": {
    "tags": []
   },
   "outputs": [
    {
     "data": {
      "text/plain": [
       "tensor([[1, 2, 3, 4],\n",
       "        [4, 5, 6, 7]])"
      ]
     },
     "execution_count": 32,
     "metadata": {},
     "output_type": "execute_result"
    }
   ],
   "source": [
    "torch.cat(data, dim=0)"
   ]
  },
  {
   "cell_type": "code",
   "execution_count": 33,
   "id": "fd8c7136-029c-4185-bfd9-d053ce8bb9fc",
   "metadata": {
    "tags": []
   },
   "outputs": [
    {
     "data": {
      "text/plain": [
       "tensor([[1, 2, 3, 4, 4, 5, 6, 7]])"
      ]
     },
     "execution_count": 33,
     "metadata": {},
     "output_type": "execute_result"
    }
   ],
   "source": [
    "torch.cat(data, dim=1)"
   ]
  },
  {
   "cell_type": "markdown",
   "id": "cad34de7",
   "metadata": {},
   "source": [
    "### Creating tensor from different data types and vice versa"
   ]
  },
  {
   "cell_type": "code",
   "execution_count": 34,
   "id": "6dc6fbdf",
   "metadata": {},
   "outputs": [
    {
     "data": {
      "text/plain": [
       "tensor([1., 2., 3., 4.], dtype=torch.float64)"
      ]
     },
     "execution_count": 34,
     "metadata": {},
     "output_type": "execute_result"
    }
   ],
   "source": [
    "# From numpy array to Tensor\n",
    "numpy_array = np.array([1, 2, 3 ,4.0])\n",
    "torch_tensor = torch.from_numpy(numpy_array)\n",
    "torch_tensor"
   ]
  },
  {
   "cell_type": "code",
   "execution_count": 35,
   "id": "428cc3aa",
   "metadata": {},
   "outputs": [
    {
     "data": {
      "text/plain": [
       "array([1., 2., 3., 4.])"
      ]
     },
     "execution_count": 35,
     "metadata": {},
     "output_type": "execute_result"
    }
   ],
   "source": [
    "# Converting back to numpy array\n",
    "back_to_array = torch_tensor.numpy()\n",
    "back_to_array"
   ]
  },
  {
   "cell_type": "code",
   "execution_count": 36,
   "id": "943fcf80",
   "metadata": {},
   "outputs": [
    {
     "data": {
      "text/plain": [
       "tensor([1, 2, 3, 4, 5])"
      ]
     },
     "execution_count": 36,
     "metadata": {},
     "output_type": "execute_result"
    }
   ],
   "source": [
    "# To convert pandas array to Tensor\n",
    "pandas_series = pd.Series([1, 2, 3, 4, 5])\n",
    "pandas_to_tensor = torch.from_numpy(pandas_series.values)\n",
    "pandas_to_tensor"
   ]
  },
  {
   "cell_type": "code",
   "execution_count": 37,
   "id": "27a58659",
   "metadata": {},
   "outputs": [
    {
     "data": {
      "text/plain": [
       "[1, 2, 3, 4, 5]"
      ]
     },
     "execution_count": 37,
     "metadata": {},
     "output_type": "execute_result"
    }
   ],
   "source": [
    "# To canvert pandas tensor to list\n",
    "pandas_to_tensor.tolist()"
   ]
  },
  {
   "cell_type": "markdown",
   "id": "fda7ef19",
   "metadata": {},
   "source": [
    "### Vector Operations"
   ]
  },
  {
   "cell_type": "code",
   "execution_count": 38,
   "id": "3ec4a85c",
   "metadata": {},
   "outputs": [
    {
     "data": {
      "text/plain": [
       "tensor([1, 1])"
      ]
     },
     "execution_count": 38,
     "metadata": {},
     "output_type": "execute_result"
    }
   ],
   "source": [
    "# Vector addition\n",
    "u = torch.tensor([0, 1])\n",
    "v = torch.tensor([1, 0])\n",
    "t = u + v\n",
    "t"
   ]
  },
  {
   "cell_type": "code",
   "execution_count": 39,
   "id": "2caaaf39",
   "metadata": {},
   "outputs": [
    {
     "data": {
      "text/plain": [
       "tensor([ 2,  4,  6,  8, 10])"
      ]
     },
     "execution_count": 39,
     "metadata": {},
     "output_type": "execute_result"
    }
   ],
   "source": [
    "# Vetor multiplication with scalar\n",
    "x = torch.tensor([1, 2, 3, 4, 5])\n",
    "z = 2 * x\n",
    "z"
   ]
  },
  {
   "cell_type": "code",
   "execution_count": 40,
   "id": "66d410f4",
   "metadata": {},
   "outputs": [
    {
     "data": {
      "text/plain": [
       "tensor([3.3000, 5.0000, 9.0000])"
      ]
     },
     "execution_count": 40,
     "metadata": {},
     "output_type": "execute_result"
    }
   ],
   "source": [
    "# Adding vectors of 2 different data types, in old versions of pytorch this might create an error.\n",
    "int_values = torch.IntTensor([1, 2, 4])\n",
    "float_values = torch.FloatTensor([2.3, 3, 5])\n",
    "int_values + float_values"
   ]
  },
  {
   "cell_type": "code",
   "execution_count": 41,
   "id": "2408e05b",
   "metadata": {},
   "outputs": [
    {
     "data": {
      "text/plain": [
       "tensor(10)"
      ]
     },
     "execution_count": 41,
     "metadata": {},
     "output_type": "execute_result"
    }
   ],
   "source": [
    "# dot product\n",
    "# 2*3 + 4 * 1\n",
    "m = torch.tensor([2, 4])\n",
    "n = torch.tensor([3, 1])\n",
    "torch.dot(m, n)"
   ]
  },
  {
   "cell_type": "markdown",
   "id": "481b68b5",
   "metadata": {},
   "source": [
    "### Matrix Operations"
   ]
  },
  {
   "cell_type": "code",
   "execution_count": 42,
   "id": "d0824b27",
   "metadata": {},
   "outputs": [],
   "source": [
    "# Element wise multiplication. Also known as Hadamard product, element-wise product, entrywise product.\n",
    "x = torch.tensor([[1, 2, 4], \n",
    "                  [3, 4, 10]])\n",
    "y = torch.tensor([[1, 2, 3], \n",
    "                  [5, 6, 7]])"
   ]
  },
  {
   "cell_type": "code",
   "execution_count": 43,
   "id": "2b9c57d3",
   "metadata": {},
   "outputs": [
    {
     "data": {
      "text/plain": [
       "tensor([[ 1,  4, 12],\n",
       "        [15, 24, 70]])"
      ]
     },
     "execution_count": 43,
     "metadata": {},
     "output_type": "execute_result"
    }
   ],
   "source": [
    "torch.mul(x, y)"
   ]
  },
  {
   "cell_type": "code",
   "execution_count": 44,
   "id": "83634c79",
   "metadata": {},
   "outputs": [
    {
     "data": {
      "text/plain": [
       "tensor([[ 1,  4, 12],\n",
       "        [15, 24, 70]])"
      ]
     },
     "execution_count": 44,
     "metadata": {},
     "output_type": "execute_result"
    }
   ],
   "source": [
    "x*y"
   ]
  },
  {
   "cell_type": "code",
   "execution_count": 45,
   "id": "b73d319a",
   "metadata": {},
   "outputs": [
    {
     "ename": "RuntimeError",
     "evalue": "1D tensors expected, but got 2D and 2D tensors",
     "output_type": "error",
     "traceback": [
      "\u001b[1;31m---------------------------------------------------------------------------\u001b[0m",
      "\u001b[1;31mRuntimeError\u001b[0m                              Traceback (most recent call last)",
      "Cell \u001b[1;32mIn[45], line 2\u001b[0m\n\u001b[0;32m      1\u001b[0m \u001b[38;5;66;03m# dot product\u001b[39;00m\n\u001b[1;32m----> 2\u001b[0m \u001b[43mtorch\u001b[49m\u001b[38;5;241;43m.\u001b[39;49m\u001b[43mdot\u001b[49m\u001b[43m(\u001b[49m\u001b[43mx\u001b[49m\u001b[43m,\u001b[49m\u001b[43m \u001b[49m\u001b[43my\u001b[49m\u001b[43m)\u001b[49m\n",
      "\u001b[1;31mRuntimeError\u001b[0m: 1D tensors expected, but got 2D and 2D tensors"
     ]
    }
   ],
   "source": [
    "# dot product\n",
    "torch.dot(x, y)"
   ]
  },
  {
   "cell_type": "code",
   "execution_count": null,
   "id": "511853b7",
   "metadata": {},
   "outputs": [],
   "source": [
    "# matrix multiplication, also known as dot product.\n",
    "x = torch.tensor([[1, 2], \n",
    "                  [3, 4]])\n",
    "y = torch.tensor([[1, 2, 3], \n",
    "                  [5, 6, 7]])\n",
    "torch.mm(x, y)"
   ]
  },
  {
   "cell_type": "markdown",
   "id": "b3164730",
   "metadata": {},
   "source": [
    "### PyTorch Mathematical and Statistical methods"
   ]
  },
  {
   "cell_type": "code",
   "execution_count": null,
   "id": "3eef1767",
   "metadata": {},
   "outputs": [],
   "source": [
    "math_tensor = torch.tensor([1, 2, 3, 4], dtype=torch.float64)\n",
    "# NOTE: Mean input dtype must be either a floating point or complex dtype\n",
    "print(f\"Mean of tensor: {math_tensor.mean()}\")\n",
    "print(f\"STD  of tensor: {math_tensor.std()}\")\n",
    "print(f\"Min value in tensor: {math_tensor.min()}\")\n",
    "print(f\"Max value in tensor: {math_tensor.max()}\")"
   ]
  },
  {
   "cell_type": "markdown",
   "id": "287863fe",
   "metadata": {},
   "source": [
    "<img src=\"images/trignometric_table.png\" alt=\"trignometry\" style=\"width: 800px;\"/>"
   ]
  },
  {
   "cell_type": "code",
   "execution_count": 46,
   "id": "a3cf08fa",
   "metadata": {},
   "outputs": [
    {
     "data": {
      "text/plain": [
       "tensor([0.0000, 0.5236, 0.7854, 1.0472, 1.5708, 3.1416, 4.7124, 6.2832])"
      ]
     },
     "execution_count": 46,
     "metadata": {},
     "output_type": "execute_result"
    }
   ],
   "source": [
    "# Applying trignometric functions on Tensor\n",
    "radians_tensor = torch.tensor([0, np.pi/6, np.pi/4, np.pi/3, np.pi/2, np.pi, 3*(np.pi)/2, 2*(np.pi)])\n",
    "radians_tensor"
   ]
  },
  {
   "cell_type": "code",
   "execution_count": 47,
   "id": "5bd6b2d3",
   "metadata": {},
   "outputs": [
    {
     "name": "stdout",
     "output_type": "stream",
     "text": [
      "Sin values of Tensor: tensor([ 0.0000e+00,  5.0000e-01,  7.0711e-01,  8.6603e-01,  1.0000e+00,\n",
      "        -8.7423e-08, -1.0000e+00,  1.7485e-07])\n"
     ]
    }
   ],
   "source": [
    "print(F\"Sin values of Tensor: {torch.sin(radians_tensor)}\")"
   ]
  },
  {
   "cell_type": "markdown",
   "id": "b3f0bbe1",
   "metadata": {},
   "source": [
    "### torch.linspace(start, end, step)"
   ]
  },
  {
   "cell_type": "markdown",
   "id": "7346f953",
   "metadata": {},
   "source": [
    "A useful function for plotting mathematical functions is <code>torch.linspace()</code>. <code>torch.linspace()</code> returns evenly spaced numbers over a specified interval. You specify the starting point of the sequence and the ending point of the sequence. The parameter <code>steps</code> indicates the number of samples to generate. Now, you'll work with <code>steps = 5</code>."
   ]
  },
  {
   "cell_type": "code",
   "execution_count": 48,
   "id": "0dda63cd",
   "metadata": {},
   "outputs": [
    {
     "data": {
      "text/plain": [
       "tensor([1.0000, 1.4444, 1.8889, 2.3333, 2.7778, 3.2222, 3.6667, 4.1111, 4.5556,\n",
       "        5.0000])"
      ]
     },
     "execution_count": 48,
     "metadata": {},
     "output_type": "execute_result"
    }
   ],
   "source": [
    "torch.linspace(1, 5, steps=10)"
   ]
  },
  {
   "cell_type": "code",
   "execution_count": 49,
   "id": "a2a88f4b",
   "metadata": {},
   "outputs": [],
   "source": [
    "pie_values = torch.linspace(0, 2 * np.pi, steps=100)"
   ]
  },
  {
   "cell_type": "code",
   "execution_count": 50,
   "id": "9ae60883",
   "metadata": {},
   "outputs": [],
   "source": [
    "sin_values = torch.sin(pie_values)"
   ]
  },
  {
   "cell_type": "code",
   "execution_count": 51,
   "id": "c389585d",
   "metadata": {},
   "outputs": [
    {
     "data": {
      "text/plain": [
       "Text(0, 0.5, 'SIN values')"
      ]
     },
     "execution_count": 51,
     "metadata": {},
     "output_type": "execute_result"
    },
    {
     "data": {
      "image/png": "[encoded data removed]",
      "text/plain": [
       "<Figure size 640x480 with 1 Axes>"
      ]
     },
     "metadata": {},
     "output_type": "display_data"
    }
   ],
   "source": [
    "plt.plot(pie_values, sin_values)\n",
    "plt.xlabel(\"PIE values\")\n",
    "plt.ylabel(\"SIN values\")"
   ]
  },
  {
   "cell_type": "code",
   "execution_count": null,
   "id": "f1703856",
   "metadata": {},
   "outputs": [],
   "source": []
  }
 ],
 "metadata": {
  "kernelspec": {
   "display_name": "Python 3 (ipykernel)",
   "language": "python",
   "name": "python3"
  },
  "language_info": {
   "codemirror_mode": {
    "name": "ipython",
    "version": 3
   },
   "file_extension": ".py",
   "mimetype": "text/x-python",
   "name": "python",
   "nbconvert_exporter": "python",
   "pygments_lexer": "ipython3",
   "version": "3.11.2"
  }
 },
 "nbformat": 4,
 "nbformat_minor": 5
}
